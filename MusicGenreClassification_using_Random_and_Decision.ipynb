{
  "cells": [
    {
      "cell_type": "markdown",
      "source": [
        "# **Random** **Forest**"
      ],
      "metadata": {
        "id": "0qLNWTEw1SDQ"
      }
    },
    {
      "cell_type": "code",
      "source": [
        "import pandas as pd\n",
        "import numpy as np\n",
        "from sklearn.model_selection import train_test_split\n",
        "from sklearn.preprocessing import StandardScaler\n",
        "from sklearn.ensemble import RandomForestClassifier\n",
        "from sklearn.metrics import accuracy_score\n",
        "\n",
        "# Define important features\n",
        "IMPORTANT_FEATURES = [\n",
        "    'chroma_stft_mean', 'chroma_stft_var', 'rms_mean', 'spectral_centroid_mean',\n",
        "    'spectral_bandwidth_mean', 'rolloff_mean', 'zero_crossing_rate_mean',\n",
        "    'mfcc1_mean', 'mfcc2_mean', 'mfcc3_mean', 'mfcc4_mean', 'mfcc5_mean'\n",
        "]\n",
        "\n",
        "# Define path to your CSV file\n",
        "data_path = \"/content/drive/MyDrive/Music Genre Classification/features_3_sec.csv\"\n",
        "\n",
        "# Read data from CSV\n",
        "try:\n",
        "  data = pd.read_csv(data_path)\n",
        "except FileNotFoundError:\n",
        "  print(\"Error: CSV file not found at\", data_path)\n",
        "  exit()\n",
        "\n",
        "# Separate features and labels\n",
        "features = data[IMPORTANT_FEATURES]\n",
        "labels = data['label']\n",
        "\n",
        "# Split data into training and testing sets\n",
        "X_train, X_test, y_train, y_test = train_test_split(features, labels, test_size=0.2, random_state=42)\n",
        "\n",
        "# Standardize features\n",
        "scaler = StandardScaler()\n",
        "X_train_scaled = scaler.fit_transform(X_train)\n",
        "X_test_scaled = scaler.transform(X_test)\n",
        "\n",
        "# Create the Random Forest Classifier model\n",
        "model = RandomForestClassifier(n_estimators=100, random_state=42)\n",
        "\n",
        "# Train the model\n",
        "model.fit(X_train_scaled, y_train)\n",
        "# Make predictions on test data\n",
        "y_pred = model.predict(X_test_scaled)\n",
        "# Calculate accuracy score\n",
        "accuracy = accuracy_score(y_test, y_pred)\n",
        "print(\"Random Forest Model Accuracy:\", accuracy)\n",
        "\n",
        "# Function to predict genre based on features\n",
        "def predict_genre(features):\n",
        "  \"\"\"Predicts the genre of a music sample based on features.\"\"\"\n",
        "  features = np.atleast_2d(features)\n",
        "  # Standardize features if scaling was used during training\n",
        "  features_scaled = scaler.transform(features)\n",
        "  prediction = model.predict(features_scaled)[0]\n",
        "  return prediction\n"
      ],
      "metadata": {
        "colab": {
          "base_uri": "https://localhost:8080/"
        },
        "id": "2svPKTdopoB6",
        "outputId": "acd8a7d2-62f3-4570-d5ca-6a1659bc1299"
      },
      "execution_count": null,
      "outputs": [
        {
          "output_type": "stream",
          "name": "stdout",
          "text": [
            "Random Forest Model Accuracy: 0.7512512512512513\n"
          ]
        }
      ]
    },
    {
      "cell_type": "code",
      "source": [
        "y_train[:20]"
      ],
      "metadata": {
        "id": "30oIajC_kjOA",
        "outputId": "f9d582ca-015c-43d0-9709-379ddf7aff9d",
        "colab": {
          "base_uri": "https://localhost:8080/"
        }
      },
      "execution_count": null,
      "outputs": [
        {
          "output_type": "execute_result",
          "data": {
            "text/plain": [
              "5846         jazz\n",
              "168         blues\n",
              "4469       hiphop\n",
              "5885         jazz\n",
              "9519         rock\n",
              "6746        metal\n",
              "2870      country\n",
              "6500        metal\n",
              "6877        metal\n",
              "3891        disco\n",
              "4237       hiphop\n",
              "5364         jazz\n",
              "6983        metal\n",
              "2620      country\n",
              "3018        disco\n",
              "210         blues\n",
              "4972       hiphop\n",
              "1919    classical\n",
              "718         blues\n",
              "2956      country\n",
              "Name: label, dtype: object"
            ]
          },
          "metadata": {},
          "execution_count": 25
        }
      ]
    },
    {
      "cell_type": "code",
      "source": [
        "# Example usage (replace with your feature values)\n",
        "new_features =[0.257768482, 0.084502317, 0.172939345, 1579.490439, 1854.044135, 550486.6216, 0.088324611, 129.1992188, -118.420578, 1570.618042, 122.2999649, 727.2286987]\n",
        "\n",
        "\n",
        "\n",
        "\n",
        "# Example feature values\n",
        "predicted_genre = predict_genre(new_features)\n",
        "print(\"Predicted genre:\", predicted_genre)"
      ],
      "metadata": {
        "colab": {
          "base_uri": "https://localhost:8080/"
        },
        "id": "niz4-0Q-pvjj",
        "outputId": "8a0c5fe6-1e85-40ca-bbf5-ec43040c2cee"
      },
      "execution_count": null,
      "outputs": [
        {
          "output_type": "stream",
          "name": "stdout",
          "text": [
            "Predicted genre: country\n"
          ]
        },
        {
          "output_type": "stream",
          "name": "stderr",
          "text": [
            "/usr/local/lib/python3.10/dist-packages/sklearn/base.py:439: UserWarning: X does not have valid feature names, but StandardScaler was fitted with feature names\n",
            "  warnings.warn(\n"
          ]
        }
      ]
    },
    {
      "cell_type": "markdown",
      "source": [
        "# **Decision** **Tree**"
      ],
      "metadata": {
        "id": "mkUiGZwL1uRo"
      }
    },
    {
      "cell_type": "code",
      "source": [
        "import pandas as pd\n",
        "from sklearn.model_selection import train_test_split\n",
        "from sklearn.preprocessing import StandardScaler\n",
        "from sklearn.tree import DecisionTreeClassifier\n",
        "from sklearn.metrics import accuracy_score\n",
        "\n",
        "\n",
        "# Define important features (replace with your selection if needed)\n",
        "IMPORTANT_FEATURES = [\n",
        "    'chroma_stft_mean', 'chroma_stft_var', 'rms_mean', 'spectral_centroid_mean',\n",
        "    'spectral_bandwidth_mean', 'rolloff_mean', 'zero_crossing_rate_mean',\n",
        "    'mfcc1_mean', 'mfcc2_mean', 'mfcc3_mean', 'mfcc4_mean', 'mfcc5_mean'\n",
        "]\n",
        "\n",
        "# Define path to your CSV file\n",
        "data_path = \"/content/drive/MyDrive/Music Genre Classification/features_3_sec.csv\"  # Modify for 3sec features\n",
        "\n",
        "try:\n",
        "  # Read data from CSV with error handling\n",
        "  data = pd.read_csv(data_path)\n",
        "except FileNotFoundError:\n",
        "  print(\"Error: CSV file not found at\", data_path)\n",
        "  exit()\n",
        "\n",
        "# Separate features and labels\n",
        "features = data[IMPORTANT_FEATURES]\n",
        "labels = data['label']\n",
        "\n",
        "# Split data into training and testing sets\n",
        "X_train, X_test, y_train, y_test = train_test_split(features, labels, test_size=0.2, random_state=42)\n",
        "\n",
        "# Standardize features (optional, but recommended)\n",
        "scaler = StandardScaler()\n",
        "X_train_scaled = scaler.fit_transform(X_train)\n",
        "X_test_scaled = scaler.transform(X_test)\n",
        "\n",
        "# Create the Decision Tree Classifier model\n",
        "model = DecisionTreeClassifier(max_depth=5)  # Adjust max_depth as needed\n",
        "\n",
        "# Train the model\n",
        "model.fit(X_train_scaled, y_train)\n",
        "\n",
        "# Function to predict genre based on features\n",
        "def predict_genre(features):\n",
        "  \"\"\"Predicts the genre of a music sample based on features.\"\"\"\n",
        "  # Ensure features are in a 2D array\n",
        "  features = np.atleast_2d(features)\n",
        "  # Standardize features if scaling was used during training\n",
        "  features_scaled = scaler.transform(features)\n",
        "  prediction = model.predict(features_scaled)[0]\n",
        "  return prediction\n",
        "\n",
        "# Make predictions on test data\n",
        "y_pred = model.predict(X_test_scaled)\n",
        "# Calculate accuracy score\n",
        "accuracy = accuracy_score(y_test, y_pred)\n",
        "print(\"Decision Tree Model Accuracy:\", accuracy)\n",
        "\n",
        "# Example usage (replace with your feature values)\n",
        "new_features = [0.407092333, 0.091630228, 0.117144808, 2244.843414, 2341.360584, 4987.918044, 0.101220703, 129.1992188, -123.3713837, 2514.216797, 103.0212021, 870.9827881]\n",
        "predicted_genre = predict_genre(new_features)\n",
        "print(\"Predicted genre:\", predicted_genre)\n"
      ],
      "metadata": {
        "colab": {
          "base_uri": "https://localhost:8080/"
        },
        "id": "Q4OFRRHP1xDH",
        "outputId": "d4a577e4-3c9c-495f-9508-7ff2ea7b7fd9"
      },
      "execution_count": null,
      "outputs": [
        {
          "output_type": "stream",
          "name": "stdout",
          "text": [
            "Decision Tree Model Accuracy: 0.4159159159159159\n",
            "Predicted genre: reggae\n"
          ]
        },
        {
          "output_type": "stream",
          "name": "stderr",
          "text": [
            "/usr/local/lib/python3.10/dist-packages/sklearn/base.py:439: UserWarning: X does not have valid feature names, but StandardScaler was fitted with feature names\n",
            "  warnings.warn(\n"
          ]
        }
      ]
    }
  ],
  "metadata": {
    "colab": {
      "provenance": []
    },
    "kernelspec": {
      "display_name": "Python 3",
      "name": "python3"
    },
    "language_info": {
      "name": "python"
    }
  },
  "nbformat": 4,
  "nbformat_minor": 0
}